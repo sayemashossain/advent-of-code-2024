{
 "cells": [
  {
   "cell_type": "markdown",
   "metadata": {},
   "source": [
    "Part 1"
   ]
  },
  {
   "cell_type": "code",
   "execution_count": 45,
   "metadata": {},
   "outputs": [],
   "source": [
    "input = open(\"input.txt\", \"r\").read()"
   ]
  },
  {
   "cell_type": "code",
   "execution_count": 46,
   "metadata": {},
   "outputs": [],
   "source": [
    "def customSplit(a):\n",
    "    b = a.split()\n",
    "    return list(map(int, b))"
   ]
  },
  {
   "cell_type": "code",
   "execution_count": 47,
   "metadata": {},
   "outputs": [],
   "source": [
    "reports = list(map(customSplit, input.splitlines()))"
   ]
  },
  {
   "cell_type": "code",
   "execution_count": 48,
   "metadata": {},
   "outputs": [],
   "source": [
    "def isSafe(report):\n",
    "        \n",
    "    diffList = list(())\n",
    "    for i in range(len(report) - 1):\n",
    "        diffList.append(report[i] - report[i + 1])\n",
    "\n",
    "\n",
    "    flag = True\n",
    "    if(diffList[0] == 0): return False\n",
    "\n",
    "    mult = 0\n",
    "\n",
    "    if(diffList[0] > 0): mult = 1 \n",
    "    else: mult = -1\n",
    "\n",
    "    for i in range(len(diffList)):\n",
    "        currentVal = diffList[i] * mult\n",
    "        if (currentVal > 0 and currentVal < 4 ): flag = flag & True\n",
    "        else: flag = flag & False\n",
    "\n",
    "    return flag\n",
    "           "
   ]
  },
  {
   "cell_type": "code",
   "execution_count": 49,
   "metadata": {},
   "outputs": [],
   "source": [
    "safeCount = 0"
   ]
  },
  {
   "cell_type": "code",
   "execution_count": 50,
   "metadata": {},
   "outputs": [
    {
     "data": {
      "text/plain": [
       "534"
      ]
     },
     "execution_count": 50,
     "metadata": {},
     "output_type": "execute_result"
    }
   ],
   "source": [
    "for report in reports:\n",
    "\n",
    "    if isSafe(report):\n",
    "        safeCount += 1\n",
    " \n",
    "\n",
    "safeCount"
   ]
  },
  {
   "cell_type": "markdown",
   "metadata": {},
   "source": [
    "Part 2"
   ]
  },
  {
   "cell_type": "code",
   "execution_count": 51,
   "metadata": {},
   "outputs": [],
   "source": [
    "dampenedSafeCount = 0"
   ]
  },
  {
   "cell_type": "code",
   "execution_count": null,
   "metadata": {},
   "outputs": [
    {
     "data": {
      "text/plain": [
       "577"
      ]
     },
     "execution_count": 52,
     "metadata": {},
     "output_type": "execute_result"
    }
   ],
   "source": [
    "for report in reports:\n",
    "    if isSafe(report):\n",
    "        dampenedSafeCount += 1\n",
    "    else: \n",
    "        for i in range(len(report)):\n",
    "            copiedReport = report.copy()\n",
    "            copiedReport.pop(i)\n",
    "            if isSafe(copiedReport):\n",
    "                dampenedSafeCount += 1\n",
    "                break\n",
    "\n",
    "\n",
    "dampenedSafeCount"
   ]
  }
 ],
 "metadata": {
  "kernelspec": {
   "display_name": "Python 3",
   "language": "python",
   "name": "python3"
  },
  "language_info": {
   "codemirror_mode": {
    "name": "ipython",
    "version": 3
   },
   "file_extension": ".py",
   "mimetype": "text/x-python",
   "name": "python",
   "nbconvert_exporter": "python",
   "pygments_lexer": "ipython3",
   "version": "3.9.6"
  }
 },
 "nbformat": 4,
 "nbformat_minor": 2
}
