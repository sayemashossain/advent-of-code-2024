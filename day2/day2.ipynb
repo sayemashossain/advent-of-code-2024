{
 "cells": [
  {
   "cell_type": "markdown",
   "metadata": {},
   "source": [
    "Part 1"
   ]
  },
  {
   "cell_type": "code",
   "execution_count": 29,
   "metadata": {},
   "outputs": [],
   "source": [
    "input = open(\"input.txt\", \"r\").read()"
   ]
  },
  {
   "cell_type": "code",
   "execution_count": 30,
   "metadata": {},
   "outputs": [],
   "source": [
    "def customSplit(a):\n",
    "    b = a.split()\n",
    "    return list(map(int, b))"
   ]
  },
  {
   "cell_type": "code",
   "execution_count": 31,
   "metadata": {},
   "outputs": [],
   "source": [
    "reports = list(map(customSplit, input.splitlines()))"
   ]
  },
  {
   "cell_type": "code",
   "execution_count": 32,
   "metadata": {},
   "outputs": [],
   "source": [
    "def isSafe(report):\n",
    "        \n",
    "    diffList = list(())\n",
    "    for i in range(len(report) - 1):\n",
    "        diffList.append(report[i] - report[i + 1])\n",
    "\n",
    "\n",
    "    flag = True\n",
    "    if(diffList[0] == 0): return False\n",
    "\n",
    "    mult = 0\n",
    "\n",
    "    if(diffList[0] > 0): mult = 1 \n",
    "    else: mult = -1\n",
    "\n",
    "    for i in range(len(diffList)):\n",
    "        currentVal = diffList[i] * mult\n",
    "        if (currentVal > 0 and currentVal < 4 ): flag = flag & True\n",
    "        else: flag = flag & False\n",
    "\n",
    "    return flag\n",
    "           "
   ]
  },
  {
   "cell_type": "code",
   "execution_count": 33,
   "metadata": {},
   "outputs": [],
   "source": [
    "safeCount = 0"
   ]
  },
  {
   "cell_type": "code",
   "execution_count": 34,
   "metadata": {},
   "outputs": [
    {
     "data": {
      "text/plain": [
       "534"
      ]
     },
     "execution_count": 34,
     "metadata": {},
     "output_type": "execute_result"
    }
   ],
   "source": [
    "for report in reports:\n",
    "\n",
    "    if isSafe(report):\n",
    "        safeCount += 1\n",
    " \n",
    "\n",
    "safeCount"
   ]
  },
  {
   "cell_type": "markdown",
   "metadata": {},
   "source": [
    "Part 2"
   ]
  },
  {
   "cell_type": "code",
   "execution_count": 35,
   "metadata": {},
   "outputs": [],
   "source": [
    "dampenedSafeCount = 0"
   ]
  },
  {
   "cell_type": "code",
   "execution_count": null,
   "metadata": {},
   "outputs": [
    {
     "ename": "TypeError",
     "evalue": "object of type 'int' has no len()",
     "output_type": "error",
     "traceback": [
      "\u001b[0;31m---------------------------------------------------------------------------\u001b[0m",
      "\u001b[0;31mTypeError\u001b[0m                                 Traceback (most recent call last)",
      "Cell \u001b[0;32mIn[36], line 8\u001b[0m\n\u001b[1;32m      6\u001b[0m \u001b[38;5;28;01mfor\u001b[39;00m i \u001b[38;5;129;01min\u001b[39;00m \u001b[38;5;28mrange\u001b[39m(\u001b[38;5;28mlen\u001b[39m(report)):\n\u001b[1;32m      7\u001b[0m     copiedReport \u001b[38;5;241m=\u001b[39m report\u001b[38;5;241m.\u001b[39mcopy()\u001b[38;5;241m.\u001b[39mpop(i)\n\u001b[0;32m----> 8\u001b[0m     \u001b[38;5;28;01mif\u001b[39;00m \u001b[43misSafe\u001b[49m\u001b[43m(\u001b[49m\u001b[43mcopiedReport\u001b[49m\u001b[43m)\u001b[49m:\n\u001b[1;32m      9\u001b[0m         dampenedSafeCount \u001b[38;5;241m+\u001b[39m\u001b[38;5;241m=\u001b[39m \u001b[38;5;241m1\u001b[39m\n\u001b[1;32m     10\u001b[0m         \u001b[38;5;28;01mbreak\u001b[39;00m\n",
      "Cell \u001b[0;32mIn[32], line 4\u001b[0m, in \u001b[0;36misSafe\u001b[0;34m(report)\u001b[0m\n\u001b[1;32m      1\u001b[0m \u001b[38;5;28;01mdef\u001b[39;00m \u001b[38;5;21misSafe\u001b[39m(report):\n\u001b[1;32m      3\u001b[0m     diffList \u001b[38;5;241m=\u001b[39m \u001b[38;5;28mlist\u001b[39m(())\n\u001b[0;32m----> 4\u001b[0m     \u001b[38;5;28;01mfor\u001b[39;00m i \u001b[38;5;129;01min\u001b[39;00m \u001b[38;5;28mrange\u001b[39m(\u001b[38;5;28;43mlen\u001b[39;49m\u001b[43m(\u001b[49m\u001b[43mreport\u001b[49m\u001b[43m)\u001b[49m \u001b[38;5;241m-\u001b[39m \u001b[38;5;241m1\u001b[39m):\n\u001b[1;32m      5\u001b[0m         diffList\u001b[38;5;241m.\u001b[39mappend(report[i] \u001b[38;5;241m-\u001b[39m report[i \u001b[38;5;241m+\u001b[39m \u001b[38;5;241m1\u001b[39m])\n\u001b[1;32m      8\u001b[0m     flag \u001b[38;5;241m=\u001b[39m \u001b[38;5;28;01mTrue\u001b[39;00m\n",
      "\u001b[0;31mTypeError\u001b[0m: object of type 'int' has no len()"
     ]
    }
   ],
   "source": [
    "for report in reports:\n",
    "\n",
    "    if isSafe(report):\n",
    "        dampenedSafeCount += 1\n",
    "    else: \n",
    "        for i in range(len(report)):\n",
    "            copiedReport = report.copy()\n",
    "            copiedReport.pop(i)\n",
    "            if isSafe(copiedReport):\n",
    "                dampenedSafeCount += 1\n",
    "                break"
   ]
  }
 ],
 "metadata": {
  "kernelspec": {
   "display_name": "Python 3",
   "language": "python",
   "name": "python3"
  },
  "language_info": {
   "codemirror_mode": {
    "name": "ipython",
    "version": 3
   },
   "file_extension": ".py",
   "mimetype": "text/x-python",
   "name": "python",
   "nbconvert_exporter": "python",
   "pygments_lexer": "ipython3",
   "version": "3.9.6"
  }
 },
 "nbformat": 4,
 "nbformat_minor": 2
}
