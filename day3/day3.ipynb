{
 "cells": [
  {
   "cell_type": "markdown",
   "metadata": {},
   "source": [
    "Part 1"
   ]
  },
  {
   "cell_type": "code",
   "execution_count": 1,
   "metadata": {},
   "outputs": [],
   "source": [
    "import re"
   ]
  },
  {
   "cell_type": "code",
   "execution_count": 2,
   "metadata": {},
   "outputs": [],
   "source": [
    "input = open(\"input.txt\", \"r\").read()"
   ]
  },
  {
   "cell_type": "code",
   "execution_count": null,
   "metadata": {},
   "outputs": [],
   "source": [
    "x = re.findall(\"mul\\(\\d+,\\d+\\)\", input)"
   ]
  },
  {
   "cell_type": "code",
   "execution_count": null,
   "metadata": {},
   "outputs": [],
   "source": [
    "listOfInts = list(())\n",
    "\n",
    "sum = 0\n",
    "\n",
    "for mul in x:\n",
    "    m = re.findall(\"\\d+\", mul)\n",
    "    # print(m)\n",
    "    m = list(map(int, m))\n",
    "    p = m[0] * m[1]\n",
    "    # print(p)\n",
    "    sum += p\n",
    "    listOfInts.append(p)\n",
    "\n",
    "\n",
    "print(sum)\n",
    "# listOfInts"
   ]
  },
  {
   "cell_type": "markdown",
   "metadata": {},
   "source": [
    "Part 2"
   ]
  },
  {
   "cell_type": "code",
   "execution_count": null,
   "metadata": {},
   "outputs": [],
   "source": [
    "y = re.findall(\"(mul\\(\\d+,\\d+\\))|(don\\'t\\(\\))|(do\\(\\))\", input)"
   ]
  },
  {
   "cell_type": "code",
   "execution_count": null,
   "metadata": {},
   "outputs": [],
   "source": [
    "doFlag = True\n",
    "\n",
    "sumDo = 0\n",
    "\n",
    "for mul in y:\n",
    "    if (mul[0] != \"\" and doFlag):\n",
    "        m = re.findall(\"\\d+\", mul[0])\n",
    "        m = list(map(int, m))\n",
    "        p = m[0] * m[1]\n",
    "        sumDo += p\n",
    "    elif (mul[1] != \"\"):\n",
    "        doFlag = False\n",
    "    elif(mul[2] != \"\"):\n",
    "        doFlag = True\n",
    "\n",
    "print(sumDo)"
   ]
  },
  {
   "cell_type": "code",
   "execution_count": null,
   "metadata": {},
   "outputs": [
    {
     "data": {
      "text/plain": [
       "118173507"
      ]
     },
     "execution_count": 5,
     "metadata": {},
     "output_type": "execute_result"
    }
   ],
   "source": []
  }
 ],
 "metadata": {
  "kernelspec": {
   "display_name": "Python 3",
   "language": "python",
   "name": "python3"
  },
  "language_info": {
   "codemirror_mode": {
    "name": "ipython",
    "version": 3
   },
   "file_extension": ".py",
   "mimetype": "text/x-python",
   "name": "python",
   "nbconvert_exporter": "python",
   "pygments_lexer": "ipython3",
   "version": "3.9.6"
  }
 },
 "nbformat": 4,
 "nbformat_minor": 2
}
