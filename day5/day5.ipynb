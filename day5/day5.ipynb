{
 "cells": [
  {
   "cell_type": "markdown",
   "metadata": {},
   "source": [
    "Part 1\n"
   ]
  },
  {
   "cell_type": "code",
   "execution_count": 46,
   "metadata": {},
   "outputs": [],
   "source": [
    "import math"
   ]
  },
  {
   "cell_type": "code",
   "execution_count": 47,
   "metadata": {},
   "outputs": [],
   "source": [
    "input = open(\"input.txt\", \"r\").read()\n",
    "\n",
    "x = input.splitlines()\n",
    "\n",
    "y = x.index(\"\")\n",
    "\n",
    "rules = x[:y]\n",
    "manuals = x[y + 1 :]"
   ]
  },
  {
   "cell_type": "code",
   "execution_count": 48,
   "metadata": {},
   "outputs": [],
   "source": [
    "lookup = {}\n",
    "\n",
    "for rule in rules:\n",
    "    [f, s] = rule.split(\"|\")\n",
    "\n",
    "    if f not in lookup:\n",
    "        lookup |= {f: {\"after\": [], \"before\": []}}\n",
    "    if s not in lookup:\n",
    "        lookup |= {s: {\"after\": [], \"before\": []}}\n",
    "\n",
    "    lookup[f][\"before\"].append(s)\n",
    "    lookup[s][\"after\"].append(f)"
   ]
  },
  {
   "cell_type": "code",
   "execution_count": 49,
   "metadata": {},
   "outputs": [
    {
     "data": {
      "text/plain": [
       "4281"
      ]
     },
     "execution_count": 49,
     "metadata": {},
     "output_type": "execute_result"
    }
   ],
   "source": [
    "sumOfMids = 0\n",
    "mangled = list(())\n",
    "\n",
    "for manual in manuals:\n",
    "\n",
    "    pages = manual.split(\",\")\n",
    "\n",
    "    numberDisorder = 0\n",
    "\n",
    "    for i in range(len(pages)):\n",
    "        theBefores = pages[:i]\n",
    "        theAfters = pages[i + 1 :]\n",
    "\n",
    "        toCheck = pages[i]\n",
    "\n",
    "        disallowedBefores = lookup[toCheck][\"before\"]\n",
    "        disallowedAfters = lookup[toCheck][\"after\"]\n",
    "        o = len(list(set(theBefores).intersection(disallowedBefores)))\n",
    "        p = len(list(set(theAfters).intersection(disallowedAfters)))\n",
    "\n",
    "        numberDisorder = numberDisorder + o + p\n",
    "\n",
    "        if numberDisorder > 0:\n",
    "            mangled.append(manual)\n",
    "            break\n",
    "\n",
    "    if numberDisorder == 0:\n",
    "        sumOfMids += int(pages[math.floor(len(pages) / 2)])\n",
    "\n",
    "\n",
    "\n",
    "sumOfMids"
   ]
  },
  {
   "cell_type": "markdown",
   "metadata": {},
   "source": [
    "Part 2"
   ]
  },
  {
   "cell_type": "code",
   "execution_count": null,
   "metadata": {},
   "outputs": [],
   "source": []
  },
  {
   "cell_type": "code",
   "execution_count": 50,
   "metadata": {},
   "outputs": [
    {
     "data": {
      "text/plain": [
       "5466"
      ]
     },
     "execution_count": 50,
     "metadata": {},
     "output_type": "execute_result"
    }
   ],
   "source": [
    "sumOfMidsPostCorrection = 0\n",
    "\n",
    "for manual in mangled:\n",
    "\n",
    "    pages = manual.split(\",\")\n",
    "\n",
    "    numberDisorderNew = 0\n",
    "\n",
    "    i = 0\n",
    "\n",
    "    def getIndices( el):\n",
    "        return pages.index(el)\n",
    "\n",
    "    # for i in range(len(pages)):\n",
    "    while i < len(pages):\n",
    "        theBefores = pages[:i]\n",
    "        theAfters = pages[i + 1 :]\n",
    "\n",
    "        toCheck = pages[i]\n",
    "\n",
    "        disallowedBefores = lookup[toCheck][\"before\"]\n",
    "        disallowedAfters = lookup[toCheck][\"after\"]\n",
    "        o = (list(set(theBefores).intersection(disallowedBefores)))\n",
    "        p = (list(set(theAfters).intersection(disallowedAfters)))\n",
    "\n",
    "        numberDisorderNew = numberDisorderNew + len(o) + len(p)\n",
    "\n",
    "        if (len(o) > 0): \n",
    "            valO = pages.pop(i)\n",
    "            insertHere = min(list(map(getIndices, o)))\n",
    "            pages.insert(insertHere, valO)\n",
    "            numberDisorderNew= 0\n",
    "            i = 0\n",
    "            continue\n",
    "        \n",
    "        if (len(p) > 0): \n",
    "            valP = pages.pop(i)\n",
    "            insertHere = max(list(map(getIndices, p)))\n",
    "            pages.insert(insertHere + 1, valP)\n",
    "            numberDisorderNew= 0\n",
    "            i = 0\n",
    "            continue\n",
    "\n",
    "        i += 1\n",
    "            # break\n",
    "\n",
    "    if numberDisorderNew == 0:\n",
    "        sumOfMidsPostCorrection += int(pages[math.floor(len(pages) / 2)])\n",
    "\n",
    "\n",
    "sumOfMidsPostCorrection"
   ]
  }
 ],
 "metadata": {
  "kernelspec": {
   "display_name": "Python 3",
   "language": "python",
   "name": "python3"
  },
  "language_info": {
   "codemirror_mode": {
    "name": "ipython",
    "version": 3
   },
   "file_extension": ".py",
   "mimetype": "text/x-python",
   "name": "python",
   "nbconvert_exporter": "python",
   "pygments_lexer": "ipython3",
   "version": "3.9.6"
  }
 },
 "nbformat": 4,
 "nbformat_minor": 2
}
