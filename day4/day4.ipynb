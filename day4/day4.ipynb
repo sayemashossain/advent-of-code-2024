{
 "cells": [
  {
   "cell_type": "markdown",
   "metadata": {},
   "source": [
    "Part 1\n"
   ]
  },
  {
   "cell_type": "code",
   "execution_count": 117,
   "metadata": {},
   "outputs": [],
   "source": [
    "import re"
   ]
  },
  {
   "cell_type": "code",
   "execution_count": 123,
   "metadata": {},
   "outputs": [],
   "source": [
    "input = open(\"input.txt\", \"r\").read()\n",
    "\n",
    "x = input.splitlines()\n",
    "\n",
    "characters2d = list(())\n",
    "\n",
    "for t in x:\n",
    "    y = list(t)\n",
    "    characters2d.append(y)\n",
    "\n",
    "# print(characters2d)\n",
    "# print(characters2d[-1])"
   ]
  },
  {
   "cell_type": "code",
   "execution_count": 119,
   "metadata": {},
   "outputs": [],
   "source": [
    "def isXmas(m, a, s):\n",
    "    if m == \"M\" and a == \"A\" and s == \"S\":\n",
    "        return True"
   ]
  },
  {
   "cell_type": "code",
   "execution_count": null,
   "metadata": {},
   "outputs": [],
   "source": [
    "def toTop(rowOuter, colummnInner, arr):\n",
    "    if rowOuter - 3 >= 0:\n",
    "        return isXmas(\n",
    "            arr[colummnInner][rowOuter - 1],\n",
    "            arr[colummnInner][rowOuter - 2],\n",
    "            arr[colummnInner][rowOuter - 3],\n",
    "        )\n",
    "\n",
    "\n",
    "def toTopLeft(rowOuter, colummnInner, arr):\n",
    "    if rowOuter - 3 >= 0 and colummnInner + 3 < len(arr[rowOuter]):\n",
    "        return isXmas(\n",
    "            arr[colummnInner + 1][rowOuter - 1],\n",
    "            arr[colummnInner + 2][rowOuter - 2],\n",
    "            arr[colummnInner + 3][rowOuter - 3],\n",
    "        )\n",
    "\n",
    "\n",
    "def toLeft(rowOuter, colummnInner, arr):\n",
    "    if colummnInner + 3 < len(arr[rowOuter]):\n",
    "        return isXmas(\n",
    "            arr[colummnInner + 1][rowOuter],\n",
    "            arr[colummnInner + 2][rowOuter],\n",
    "            arr[colummnInner + 3][rowOuter],\n",
    "        )\n",
    "\n",
    "\n",
    "def toBottomLeft(rowOuter, colummnInner, arr):\n",
    "    if rowOuter + 3 < len(arr) and colummnInner + 3 < len(arr[rowOuter]):\n",
    "        return isXmas(\n",
    "            arr[colummnInner + 1][rowOuter + 1],\n",
    "            arr[colummnInner + 2][rowOuter + 2],\n",
    "            arr[colummnInner + 3][rowOuter + 3],\n",
    "        )\n",
    "\n",
    "\n",
    "def toBottom(rowOuter, colummnInner, arr):\n",
    "    if rowOuter + 3 < len(arr):\n",
    "        return isXmas(\n",
    "            arr[colummnInner][rowOuter + 1],\n",
    "            arr[colummnInner][rowOuter + 2],\n",
    "            arr[colummnInner][rowOuter + 3],\n",
    "        )\n",
    "\n",
    "\n",
    "def toBottomRight(rowOuter, colummnInner, arr):\n",
    "    if rowOuter + 3 < len(arr) and colummnInner - 3 >= 0:\n",
    "\n",
    "        return isXmas(\n",
    "            arr[colummnInner - 1][rowOuter + 1],\n",
    "            arr[colummnInner - 2][rowOuter + 2],\n",
    "            arr[colummnInner - 3][rowOuter + 3],\n",
    "        )\n",
    "\n",
    "\n",
    "def toRight(rowOuter, colummnInner, arr):\n",
    "    if colummnInner - 3 >= 0:\n",
    "        return isXmas(\n",
    "            arr[colummnInner - 1][rowOuter],\n",
    "            arr[colummnInner - 2][rowOuter],\n",
    "            arr[colummnInner - 3][rowOuter],\n",
    "        )\n",
    "\n",
    "\n",
    "def toTopRight(rowOuter, colummnInner, arr):\n",
    "    if rowOuter - 3 >= 0 and colummnInner - 3 >= 0:\n",
    "        return isXmas(\n",
    "            arr[colummnInner - 1][rowOuter - 1],\n",
    "            arr[colummnInner - 2][rowOuter - 2],\n",
    "            arr[colummnInner - 3][rowOuter - 3],\n",
    "        )"
   ]
  },
  {
   "cell_type": "code",
   "execution_count": 121,
   "metadata": {},
   "outputs": [],
   "source": [
    "def checkAllDirections(rowOuter, colummnInner, arr):\n",
    "    howMany = 0\n",
    "    if toTop(rowOuter, colummnInner, arr):\n",
    "        howMany += 1\n",
    "    if toTopLeft(rowOuter, colummnInner, arr):\n",
    "        howMany += 1\n",
    "    if toLeft(rowOuter, colummnInner, arr):\n",
    "        howMany += 1\n",
    "    if toBottomLeft(rowOuter, colummnInner, arr):\n",
    "        howMany += 1\n",
    "    if toBottom(rowOuter, colummnInner, arr):\n",
    "        howMany += 1\n",
    "    if toBottomRight(rowOuter, colummnInner, arr):\n",
    "        howMany += 1\n",
    "    if toRight(rowOuter, colummnInner, arr):\n",
    "        howMany += 1\n",
    "    if toTopRight(rowOuter, colummnInner, arr):\n",
    "        howMany += 1\n",
    "\n",
    "    # if(howMany >= 0): print(howMany)\n",
    "\n",
    "    return howMany"
   ]
  },
  {
   "cell_type": "code",
   "execution_count": null,
   "metadata": {},
   "outputs": [
    {
     "name": "stdout",
     "output_type": "stream",
     "text": [
      "2639\n"
     ]
    }
   ],
   "source": [
    "occurances = 0\n",
    "\n",
    "for rowOuter in range(len(characters2d)):\n",
    "    # print(characters2d[rowOuter])\n",
    "    for colInner in range(len(characters2d[rowOuter])):\n",
    "\n",
    "        letter = characters2d[rowOuter][colInner]\n",
    "\n",
    "        if letter == \"X\":\n",
    "            occurances += checkAllDirections(colInner, rowOuter, characters2d)\n",
    "\n",
    "print(occurances)"
   ]
  },
  {
   "cell_type": "markdown",
   "metadata": {},
   "source": [
    "Part 2\n"
   ]
  },
  {
   "cell_type": "code",
   "execution_count": 127,
   "metadata": {},
   "outputs": [],
   "source": [
    "def isMas(one, two):\n",
    "    return (one == \"M\" and two == \"S\") or (one == \"S\" and two == \"M\")"
   ]
  },
  {
   "cell_type": "code",
   "execution_count": 128,
   "metadata": {},
   "outputs": [],
   "source": [
    "def crossMass(rowOuter, colummnInner, arr):\n",
    "    if (\n",
    "        rowOuter - 1 >= 0\n",
    "        and colummnInner + 1 < len(arr[rowOuter])\n",
    "        and rowOuter + 1 < len(arr[rowOuter])\n",
    "        and colummnInner - 1 >= 0\n",
    "    ):\n",
    "        return isMas(\n",
    "            arr[colummnInner + 1][rowOuter + 1], arr[colummnInner - 1][rowOuter - 1]\n",
    "        ) and isMas(\n",
    "            arr[colummnInner + 1][rowOuter - 1], arr[colummnInner - 1][rowOuter + 1]\n",
    "        )"
   ]
  },
  {
   "cell_type": "code",
   "execution_count": 130,
   "metadata": {},
   "outputs": [
    {
     "name": "stdout",
     "output_type": "stream",
     "text": [
      "2005\n"
     ]
    }
   ],
   "source": [
    "occurancesX = 0\n",
    "\n",
    "for rowOuter in range(len(characters2d)):\n",
    "    # print(characters2d[rowOuter])\n",
    "    for colInner in range(len(characters2d[rowOuter])):\n",
    "\n",
    "        letter = characters2d[rowOuter][colInner]\n",
    "\n",
    "        if letter == \"A\":\n",
    "            if (crossMass(colInner, rowOuter, characters2d)):\n",
    "                occurancesX += 1   \n",
    "\n",
    "print(occurancesX)"
   ]
  }
 ],
 "metadata": {
  "kernelspec": {
   "display_name": "Python 3",
   "language": "python",
   "name": "python3"
  },
  "language_info": {
   "codemirror_mode": {
    "name": "ipython",
    "version": 3
   },
   "file_extension": ".py",
   "mimetype": "text/x-python",
   "name": "python",
   "nbconvert_exporter": "python",
   "pygments_lexer": "ipython3",
   "version": "3.9.6"
  }
 },
 "nbformat": 4,
 "nbformat_minor": 2
}
